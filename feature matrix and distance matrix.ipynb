{
 "cells": [
  {
   "cell_type": "markdown",
   "metadata": {},
   "source": [
    "Looking at how scipy.cluster.hierachy.linkage deals with various input types."
   ]
  },
  {
   "cell_type": "code",
   "execution_count": 48,
   "metadata": {},
   "outputs": [],
   "source": [
    "import numpy as np\n",
    "import scipy.stats\n",
    "import scipy.spatial\n",
    "import scipy.cluster.hierarchy\n",
    "import matplotlib.pyplot as plt"
   ]
  },
  {
   "cell_type": "code",
   "execution_count": 55,
   "metadata": {},
   "outputs": [
    {
     "name": "stderr",
     "output_type": "stream",
     "text": [
      "C:\\Users\\zlind\\Anaconda3\\lib\\site-packages\\ipykernel_launcher.py:17: ClusterWarning: scipy.cluster: The symmetric non-negative hollow observation matrix looks suspiciously like an uncondensed distance matrix\n"
     ]
    }
   ],
   "source": [
    "# generate some random points\n",
    "np.random.seed(seed=1234)\n",
    "points = np.array([scipy.stats.multivariate_normal.rvs(mean=np.zeros(5)) for i in range(10)])\n",
    "\n",
    "# calculate a distance matrix\n",
    "dists = scipy.spatial.distance_matrix(points,points)\n",
    "\n",
    "# now create a flattened distance vector\n",
    "flat_dists = []\n",
    "for i in range(points.shape[0]):\n",
    "    for j in range(i+1,points.shape[0]):\n",
    "        flat_dists.append(np.linalg.norm(points[i]-points[j]))\n",
    "\n",
    "# form linkage matrices for each\n",
    "Z_points = scipy.cluster.hierarchy.linkage(points)\n",
    "Z_flat_dists = scipy.cluster.hierarchy.linkage(flat_dists)\n",
    "Z_dists = scipy.cluster.hierarchy.linkage(dists)"
   ]
  },
  {
   "cell_type": "code",
   "execution_count": 56,
   "metadata": {},
   "outputs": [
    {
     "data": {
      "image/png": "[encoded data removed]",
      "text/plain": [
       "<Figure size 432x288 with 1 Axes>"
      ]
     },
     "metadata": {
      "needs_background": "light"
     },
     "output_type": "display_data"
    },
    {
     "data": {
      "image/png": "[encoded data removed]",
      "text/plain": [
       "<Figure size 432x288 with 1 Axes>"
      ]
     },
     "metadata": {
      "needs_background": "light"
     },
     "output_type": "display_data"
    },
    {
     "data": {
      "image/png": "[encoded data removed]",
      "text/plain": [
       "<Figure size 432x288 with 1 Axes>"
      ]
     },
     "metadata": {
      "needs_background": "light"
     },
     "output_type": "display_data"
    }
   ],
   "source": [
    "# plot results\n",
    "dendo_points = scipy.cluster.hierarchy.dendrogram(Z_points)\n",
    "plt.show()\n",
    "dendro_flat_dists =  scipy.cluster.hierarchy.dendrogram(Z_flat_dists)\n",
    "plt.show()\n",
    "dendo_dists = scipy.cluster.hierarchy.dendrogram(Z_dists)"
   ]
  },
  {
   "cell_type": "markdown",
   "metadata": {},
   "source": [
    "The dendrograms are similar, but not the same! Notice that the 13 cluster is joined to the 028 cluster first in the \"distance matrix\" input, while it is joined to the 57469 cluster in the flattened distance/feature input. "
   ]
  },
  {
   "cell_type": "code",
   "execution_count": null,
   "metadata": {},
   "outputs": [],
   "source": []
  }
 ],
 "metadata": {
  "kernelspec": {
   "display_name": "Python 3",
   "language": "python",
   "name": "python3"
  },
  "language_info": {
   "codemirror_mode": {
    "name": "ipython",
    "version": 3
   },
   "file_extension": ".py",
   "mimetype": "text/x-python",
   "name": "python",
   "nbconvert_exporter": "python",
   "pygments_lexer": "ipython3",
   "version": "3.7.3"
  }
 },
 "nbformat": 4,
 "nbformat_minor": 2
}
